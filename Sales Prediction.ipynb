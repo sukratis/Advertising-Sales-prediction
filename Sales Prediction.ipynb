{
 "cells": [
  {
   "cell_type": "markdown",
   "id": "6677f1df",
   "metadata": {},
   "source": [
    "# Importing libraries"
   ]
  },
  {
   "cell_type": "code",
   "execution_count": 1,
   "id": "4947baf3",
   "metadata": {},
   "outputs": [],
   "source": [
    "import numpy as np\n",
    "import pandas as pd\n",
    "import matplotlib.pyplot as plt\n",
    "import numpy as np # linear algebra\n",
    "import pandas as pd # data processing\n",
    "import os\n",
    "for dirname, _, filenames in os.walk('/kaggle/input'):\n",
    "    for filename in filenames:\n",
    "        print(os.path.join(dirname, filename))"
   ]
  },
  {
   "cell_type": "code",
   "execution_count": 2,
   "id": "f8411072",
   "metadata": {},
   "outputs": [],
   "source": [
    "dataset = pd.read_csv(\"advertising.csv\")\n",
    "X = dataset.iloc[:, :-1].values\n",
    "y = dataset.iloc[:, -1].values"
   ]
  },
  {
   "cell_type": "code",
   "execution_count": 3,
   "id": "20a85395",
   "metadata": {},
   "outputs": [
    {
     "data": {
      "text/plain": [
       "array([[230.1,  37.8,  69.2],\n",
       "       [ 44.5,  39.3,  45.1],\n",
       "       [ 17.2,  45.9,  69.3],\n",
       "       [151.5,  41.3,  58.5],\n",
       "       [180.8,  10.8,  58.4],\n",
       "       [  8.7,  48.9,  75. ],\n",
       "       [ 57.5,  32.8,  23.5],\n",
       "       [120.2,  19.6,  11.6],\n",
       "       [  8.6,   2.1,   1. ],\n",
       "       [199.8,   2.6,  21.2]])"
      ]
     },
     "execution_count": 3,
     "metadata": {},
     "output_type": "execute_result"
    }
   ],
   "source": [
    "X[:10]"
   ]
  },
  {
   "cell_type": "code",
   "execution_count": 4,
   "id": "a27e5d6f",
   "metadata": {},
   "outputs": [
    {
     "data": {
      "text/plain": [
       "array([22.1, 10.4, 12. , 16.5, 17.9,  7.2, 11.8, 13.2,  4.8, 15.6])"
      ]
     },
     "execution_count": 4,
     "metadata": {},
     "output_type": "execute_result"
    }
   ],
   "source": [
    "y[:10]"
   ]
  },
  {
   "cell_type": "markdown",
   "id": "db75cefb",
   "metadata": {},
   "source": [
    "# Scaling the dataset"
   ]
  },
  {
   "cell_type": "code",
   "execution_count": 5,
   "id": "27270807",
   "metadata": {},
   "outputs": [],
   "source": [
    "from sklearn.preprocessing import StandardScaler\n",
    "sc = StandardScaler()\n",
    "X = sc.fit_transform(X)"
   ]
  },
  {
   "cell_type": "code",
   "execution_count": 6,
   "id": "7a085c69",
   "metadata": {},
   "outputs": [
    {
     "data": {
      "text/plain": [
       "array([[ 0.96985227,  0.98152247,  1.77894547],\n",
       "       [-1.19737623,  1.08280781,  0.66957876],\n",
       "       [-1.51615499,  1.52846331,  1.78354865],\n",
       "       [ 0.05204968,  1.21785493,  1.28640506],\n",
       "       [ 0.3941822 , -0.84161366,  1.28180188],\n",
       "       [-1.61540845,  1.73103399,  2.04592999],\n",
       "       [-1.04557682,  0.64390467, -0.32470841],\n",
       "       [-0.31343659, -0.24740632, -0.87248699],\n",
       "       [-1.61657614, -1.42906863, -1.36042422],\n",
       "       [ 0.61604287, -1.39530685, -0.43058158]])"
      ]
     },
     "execution_count": 6,
     "metadata": {},
     "output_type": "execute_result"
    }
   ],
   "source": [
    "X[:10]"
   ]
  },
  {
   "cell_type": "markdown",
   "id": "59ba3add",
   "metadata": {},
   "source": [
    "# Splitting the dataset"
   ]
  },
  {
   "cell_type": "code",
   "execution_count": 7,
   "id": "4277d68a",
   "metadata": {},
   "outputs": [],
   "source": [
    "from sklearn.model_selection import train_test_split\n",
    "X_train, X_test, y_train, y_test = train_test_split(X, y, test_size=0.25, random_state=0)"
   ]
  },
  {
   "cell_type": "code",
   "execution_count": 8,
   "id": "958876ac",
   "metadata": {},
   "outputs": [
    {
     "data": {
      "text/plain": [
       "array([[-0.43487612, -0.60528119,  0.05275246],\n",
       "       [ 0.96284614,  0.61014289,  2.00910454],\n",
       "       [ 1.24659427, -0.13261627, -0.02550162],\n",
       "       [ 0.4420574 , -0.15287334, -0.39375613],\n",
       "       [-1.19504085,  0.17123975, -0.45820067],\n",
       "       [-0.98952781, -0.72007125, -0.56407384],\n",
       "       [ 1.70316018,  0.34004865,  0.58211831],\n",
       "       [ 0.29726411, -0.34869167,  0.00672064],\n",
       "       [ 0.64757044, -0.06509271,  0.04814928],\n",
       "       [-1.63175608,  0.32654394,  0.49926105]])"
      ]
     },
     "execution_count": 8,
     "metadata": {},
     "output_type": "execute_result"
    }
   ],
   "source": [
    "X_train[:10]"
   ]
  },
  {
   "cell_type": "code",
   "execution_count": 9,
   "id": "418fe8a6",
   "metadata": {},
   "outputs": [
    {
     "data": {
      "text/plain": [
       "array([[-0.90895735, -0.18663512, -0.56407384],\n",
       "       [-1.1331534 , -0.78759481, -0.55947066],\n",
       "       [-0.66140754, -1.55061104, -0.33851796],\n",
       "       [ 1.66579418,  1.28537849,  0.95037282],\n",
       "       [ 0.27040729, -1.04418434,  0.21386381],\n",
       "       [-1.06075676, -1.18598381, -0.03931117],\n",
       "       [-1.61540845,  1.73103399,  2.04592999],\n",
       "       [ 1.08662104, -1.07794612, -1.00597925],\n",
       "       [-1.4390876 ,  0.79920886,  1.62704048],\n",
       "       [ 0.59035374,  0.00243085, -0.75280428]])"
      ]
     },
     "execution_count": 9,
     "metadata": {},
     "output_type": "execute_result"
    }
   ],
   "source": [
    "X_test[:10]"
   ]
  },
  {
   "cell_type": "code",
   "execution_count": 10,
   "id": "3c424a8f",
   "metadata": {},
   "outputs": [
    {
     "data": {
      "text/plain": [
       "array([12.4, 19.7, 17.6, 20.5, 10.1,  9.7, 21.4, 16.4, 16.6,  5.5])"
      ]
     },
     "execution_count": 10,
     "metadata": {},
     "output_type": "execute_result"
    }
   ],
   "source": [
    "y_train[:10]"
   ]
  },
  {
   "cell_type": "code",
   "execution_count": 11,
   "id": "45eb531e",
   "metadata": {},
   "outputs": [
    {
     "data": {
      "text/plain": [
       "array([11.3,  8.4, 12. , 25.4, 16.7,  8.7,  7.2, 18.2,  9.2, 16.6])"
      ]
     },
     "execution_count": 11,
     "metadata": {},
     "output_type": "execute_result"
    }
   ],
   "source": [
    "y_test[:10]"
   ]
  },
  {
   "cell_type": "markdown",
   "id": "fe818132",
   "metadata": {},
   "source": [
    "# Training the multiple linear regression model"
   ]
  },
  {
   "cell_type": "code",
   "execution_count": 12,
   "id": "2e2cc3ab",
   "metadata": {},
   "outputs": [
    {
     "data": {
      "text/plain": [
       "LinearRegression()"
      ]
     },
     "execution_count": 12,
     "metadata": {},
     "output_type": "execute_result"
    }
   ],
   "source": [
    "from sklearn.linear_model import LinearRegression\n",
    "regressor = LinearRegression()\n",
    "regressor.fit(X_train, y_train)"
   ]
  },
  {
   "cell_type": "markdown",
   "id": "9e6d524e",
   "metadata": {},
   "source": [
    "# Making prediction"
   ]
  },
  {
   "cell_type": "code",
   "execution_count": 13,
   "id": "ac91b7cb",
   "metadata": {},
   "outputs": [
    {
     "name": "stdout",
     "output_type": "stream",
     "text": [
      "[[10.69034418 11.3       ]\n",
      " [ 8.68132435  8.4       ]\n",
      " [ 9.59290052 12.        ]\n",
      " [24.88241319 25.4       ]\n",
      " [14.68606352 16.7       ]\n",
      " [ 8.36077587  8.7       ]\n",
      " [10.5898131   7.2       ]\n",
      " [18.36838345 18.2       ]\n",
      " [ 9.87359003  9.2       ]\n",
      " [17.86306812 16.6       ]\n",
      " [23.40835973 24.2       ]\n",
      " [10.69153461 10.6       ]\n",
      " [13.38610616 15.5       ]\n",
      " [17.09651474 20.6       ]\n",
      " [11.7596204  11.8       ]\n",
      " [13.31736836 13.2       ]\n",
      " [21.13410725 17.4       ]\n",
      " [ 9.13820326  1.6       ]\n",
      " [14.17420598 14.7       ]\n",
      " [18.85121771 17.        ]\n",
      " [24.84655353 26.2       ]\n",
      " [12.43749806 10.3       ]\n",
      " [16.57128353 16.1       ]\n",
      " [13.79857232 12.9       ]\n",
      " [ 7.80827038  8.1       ]\n",
      " [15.12861077 15.2       ]\n",
      " [14.68386733 17.6       ]\n",
      " [20.66548775 22.6       ]\n",
      " [16.96644118 16.6       ]\n",
      " [ 8.90614184  8.5       ]\n",
      " [12.38904935 12.5       ]\n",
      " [20.8124535  23.7       ]\n",
      " [21.26609738 16.1       ]\n",
      " [21.84309375 21.8       ]\n",
      " [ 7.18768267  5.6       ]\n",
      " [ 7.06323314  6.7       ]\n",
      " [ 9.23756125  9.7       ]\n",
      " [15.58290474 17.9       ]\n",
      " [13.29684701 13.6       ]\n",
      " [ 7.27825284  7.2       ]\n",
      " [10.96029997 10.8       ]\n",
      " [ 9.12857882 11.        ]\n",
      " [15.60175994 15.        ]\n",
      " [18.20653066 20.9       ]\n",
      " [18.8457611  17.1       ]\n",
      " [13.48625496 14.        ]\n",
      " [ 5.42016056  4.8       ]\n",
      " [10.45332757  8.7       ]\n",
      " [15.51862918 15.9       ]\n",
      " [10.94769952 10.4       ]]\n"
     ]
    }
   ],
   "source": [
    "y_pred = regressor.predict(X_test)\n",
    "print(np.concatenate((y_pred.reshape(len(y_pred), 1), y_test.reshape(len(y_test), 1)), 1))"
   ]
  },
  {
   "cell_type": "markdown",
   "id": "44f775ca",
   "metadata": {},
   "source": [
    "# Testing accuracy"
   ]
  },
  {
   "cell_type": "code",
   "execution_count": 14,
   "id": "1038ebd4",
   "metadata": {},
   "outputs": [
    {
     "data": {
      "text/plain": [
       "0.8718069474344206"
      ]
     },
     "execution_count": 14,
     "metadata": {},
     "output_type": "execute_result"
    }
   ],
   "source": [
    "from sklearn.metrics import r2_score\n",
    "r2_score(y_test, y_pred)"
   ]
  },
  {
   "cell_type": "code",
   "execution_count": null,
   "id": "b95cd3cc",
   "metadata": {},
   "outputs": [],
   "source": []
  }
 ],
 "metadata": {
  "kernelspec": {
   "display_name": "Python 3 (ipykernel)",
   "language": "python",
   "name": "python3"
  },
  "language_info": {
   "codemirror_mode": {
    "name": "ipython",
    "version": 3
   },
   "file_extension": ".py",
   "mimetype": "text/x-python",
   "name": "python",
   "nbconvert_exporter": "python",
   "pygments_lexer": "ipython3",
   "version": "3.9.12"
  }
 },
 "nbformat": 4,
 "nbformat_minor": 5
}
